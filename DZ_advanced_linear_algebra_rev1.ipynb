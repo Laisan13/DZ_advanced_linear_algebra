{
 "cells": [
  {
   "cell_type": "markdown",
   "id": "democratic-technique",
   "metadata": {},
   "source": [
    "# Домашнее задание \"Продвинутая линейная алгебра\"."
   ]
  },
  {
   "cell_type": "markdown",
   "id": "wanted-narrative",
   "metadata": {},
   "source": [
    "### Уровень 0:"
   ]
  },
  {
   "cell_type": "code",
   "execution_count": 1,
   "id": "suitable-museum",
   "metadata": {},
   "outputs": [
    {
     "name": "stdout",
     "output_type": "stream",
     "text": [
      "[[-1.  0.  0.]\n",
      " [ 0. -1.  0.]\n",
      " [ 0.  0. -1.]] Диагональная , ортогональная матрица\n"
     ]
    }
   ],
   "source": [
    "from matplotlib import pyplot as plt\n",
    "import numpy as np\n",
    "from scipy.stats import ortho_group\n",
    "from numpy import linalg as LA\n",
    "# Придумайте матрицы, которые обладают следующими свойствами:\n",
    "# a) Диагональная, ортогональная, но не единичная(!)\n",
    "\n",
    "m =np.array([\n",
    "    [-np.cos(0), 0,0],\n",
    "    [0, -np.cos(0),0],   \n",
    "    [0, 0 , -np.cos(0)]])\n",
    "print( m, 'Диагональная , ортогональная матрица')"
   ]
  },
  {
   "cell_type": "code",
   "execution_count": 2,
   "id": "injured-enforcement",
   "metadata": {},
   "outputs": [
    {
     "name": "stdout",
     "output_type": "stream",
     "text": [
      "[[1. 0. 0.]\n",
      " [0. 1. 0.]\n",
      " [0. 0. 1.]] Проверка\n"
     ]
    }
   ],
   "source": [
    "mo = m.dot(m.T)\n",
    "print( mo, 'Проверка')"
   ]
  },
  {
   "cell_type": "code",
   "execution_count": 3,
   "id": "focused-quest",
   "metadata": {},
   "outputs": [
    {
     "name": "stdout",
     "output_type": "stream",
     "text": [
      "[[-1.  0.  0.]\n",
      " [ 0. -1.  0.]\n",
      " [ 0.  0. -1.]] Верхнетреугольная матрица, ортогональная матрица\n"
     ]
    }
   ],
   "source": [
    "import math\n",
    "# b) Верхнетреугольная, ортогональная\n",
    "n = math.sqrt(0.5)\n",
    "n1 = math.sqrt(0.25)\n",
    "m1 = np.triu([[-np.cos(0), 0,0], [0, -np.cos(0),0],[0, 0 , -np.cos(0)]], 0)\n",
    "print( m1, 'Верхнетреугольная матрица, ортогональная матрица')"
   ]
  },
  {
   "cell_type": "code",
   "execution_count": 4,
   "id": "gothic-paris",
   "metadata": {},
   "outputs": [],
   "source": [
    "m1T = m1.transpose()"
   ]
  },
  {
   "cell_type": "code",
   "execution_count": 5,
   "id": "virgin-elite",
   "metadata": {},
   "outputs": [
    {
     "name": "stdout",
     "output_type": "stream",
     "text": [
      "[[1. 0. 0.]\n",
      " [0. 1. 0.]\n",
      " [0. 0. 1.]] Проверка\n"
     ]
    }
   ],
   "source": [
    "mo1 = m1.dot(m1T)\n",
    "print( mo1, 'Проверка')"
   ]
  },
  {
   "cell_type": "code",
   "execution_count": 6,
   "id": "removed-handling",
   "metadata": {},
   "outputs": [
    {
     "name": "stdout",
     "output_type": "stream",
     "text": [
      "[[-1.  0.  0.]\n",
      " [ 0. -1.  0.]\n",
      " [ 0.  0. -1.]] Нижнетреугольная матрица, ортогональная матрица\n"
     ]
    }
   ],
   "source": [
    "# c) Нижнетреугольная, ортогональная\n",
    "m2 = np.tril([[-np.cos(0), 0,0], [0, -np.cos(0),0],[0, 0 , -np.cos(0)]], 0)\n",
    "print( m2, 'Нижнетреугольная матрица, ортогональная матрица')"
   ]
  },
  {
   "cell_type": "code",
   "execution_count": 7,
   "id": "tamil-bleeding",
   "metadata": {},
   "outputs": [],
   "source": [
    "m2T = m2.transpose()"
   ]
  },
  {
   "cell_type": "code",
   "execution_count": 8,
   "id": "opposed-journalism",
   "metadata": {},
   "outputs": [
    {
     "name": "stdout",
     "output_type": "stream",
     "text": [
      "[[1. 0. 0.]\n",
      " [0. 1. 0.]\n",
      " [0. 0. 1.]] Проверка\n"
     ]
    }
   ],
   "source": [
    "mo2 = m2.dot(m2T)\n",
    "print( mo2, 'Проверка')"
   ]
  },
  {
   "cell_type": "code",
   "execution_count": 9,
   "id": "welsh-rotation",
   "metadata": {},
   "outputs": [],
   "source": [
    "# d) Матрица, у которой определитель = 1, и все элементы не равны 0"
   ]
  },
  {
   "cell_type": "code",
   "execution_count": 10,
   "id": "light-museum",
   "metadata": {},
   "outputs": [
    {
     "name": "stdout",
     "output_type": "stream",
     "text": [
      "[[1. 2. 1.]\n",
      " [1. 1. 6.]\n",
      " [2. 3. 6.]]\n",
      "1.0\n"
     ]
    }
   ],
   "source": [
    "m = np.array([[1, 2, 1], [1, 1, 6], [2, 3, 6]], dtype=np.float32)\n",
    "det = np.linalg.det(m)\n",
    "print(m)\n",
    "print(det)"
   ]
  },
  {
   "cell_type": "code",
   "execution_count": 11,
   "id": "caroline-lender",
   "metadata": {},
   "outputs": [
    {
     "name": "stdout",
     "output_type": "stream",
     "text": [
      "[[2 2]\n",
      " [1 3]]\n"
     ]
    }
   ],
   "source": [
    "# Найдите собственные значения и собственные вектора матриц:\n",
    "m3 = np.array([[2, 2],[1, 3]])\n",
    "w, v = np.linalg.eig(m3)\n",
    "print(m3)"
   ]
  },
  {
   "cell_type": "code",
   "execution_count": 12,
   "id": "celtic-retrieval",
   "metadata": {},
   "outputs": [
    {
     "name": "stdout",
     "output_type": "stream",
     "text": [
      "Собственное значение 1.0\n",
      "соответствующий ему собственный вектор [-0.89442719  0.4472136 ]\n",
      "Собственное значение 4.0\n",
      "соответствующий ему собственный вектор [-0.70710678 -0.70710678]\n"
     ]
    }
   ],
   "source": [
    "for i in range(len(w)):\n",
    "    print(\"Собственное значение \" + str(w[i]))\n",
    "    print(\"соответствующий ему собственный вектор \" + str(v[:,i]))"
   ]
  },
  {
   "cell_type": "markdown",
   "id": "available-capital",
   "metadata": {},
   "source": [
    "### Уровень 1:¶"
   ]
  },
  {
   "cell_type": "code",
   "execution_count": 13,
   "id": "judicial-collar",
   "metadata": {},
   "outputs": [
    {
     "name": "stdout",
     "output_type": "stream",
     "text": [
      "[[1 2]\n",
      " [2 3]]\n"
     ]
    }
   ],
   "source": [
    "import pylab as pl\n",
    "import warnings\n",
    "warnings.filterwarnings(\"ignore\")\n",
    "from matplotlib import pyplot as plt\n",
    "from scipy import linalg\n",
    "from sklearn.datasets import load_digits\n",
    "from sklearn.decomposition import TruncatedSVD\n",
    "from sklearn.ensemble import RandomForestClassifier\n",
    "\n",
    "from mnist.loader import MNIST\n",
    "from sklearn.decomposition import PCA as RandomizedPCA\n",
    "\n",
    "# Найдите спектральное разложение матрицы:\n",
    "\n",
    "m = np.array([[1, 2],[2,3]])\n",
    "print(m)"
   ]
  },
  {
   "cell_type": "code",
   "execution_count": 14,
   "id": "bibliographic-prevention",
   "metadata": {},
   "outputs": [
    {
     "name": "stdout",
     "output_type": "stream",
     "text": [
      "Eigenvalues собственные значения матрицы m:\n",
      "[-0.23606798  4.23606798]\n",
      "\n",
      "Eigenvectors собственные вектора матрицы m:\n",
      "[[-0.85065081 -0.52573111]\n",
      " [ 0.52573111 -0.85065081]]\n"
     ]
    }
   ],
   "source": [
    "a, U = linalg.eig(m)\n",
    "print('Eigenvalues собственные значения матрицы m:')\n",
    "print(np.array(a, dtype=float))\n",
    "print('\\nEigenvectors собственные вектора матрицы m:')\n",
    "print(U)"
   ]
  },
  {
   "cell_type": "code",
   "execution_count": 15,
   "id": "married-sampling",
   "metadata": {},
   "outputs": [
    {
     "name": "stdout",
     "output_type": "stream",
     "text": [
      "[[1. 2.]\n",
      " [2. 3.]]\n"
     ]
    }
   ],
   "source": [
    "print(np.array(U.dot(np.diag(a)).dot(U.T), dtype=float)) # спектральное разложение "
   ]
  },
  {
   "cell_type": "code",
   "execution_count": 16,
   "id": "ignored-longitude",
   "metadata": {},
   "outputs": [],
   "source": [
    "# Постройте зависимость качества восстановления рукописных цифр (MNIST)\n",
    "# в зависимости от различного количества компонент PCA. В качестве метрики различия предлагаю использовать MSE.*\n"
   ]
  },
  {
   "cell_type": "code",
   "execution_count": 17,
   "id": "unlikely-bloom",
   "metadata": {},
   "outputs": [
    {
     "data": {
      "text/plain": [
       "array([[ 0.,  0.,  5., 13.,  9.,  1.,  0.,  0.],\n",
       "       [ 0.,  0., 13., 15., 10., 15.,  5.,  0.],\n",
       "       [ 0.,  3., 15.,  2.,  0., 11.,  8.,  0.],\n",
       "       [ 0.,  4., 12.,  0.,  0.,  8.,  8.,  0.],\n",
       "       [ 0.,  5.,  8.,  0.,  0.,  9.,  8.,  0.],\n",
       "       [ 0.,  4., 11.,  0.,  1., 12.,  7.,  0.],\n",
       "       [ 0.,  2., 14.,  5., 10., 12.,  0.,  0.],\n",
       "       [ 0.,  0.,  6., 13., 10.,  0.,  0.,  0.]])"
      ]
     },
     "execution_count": 17,
     "metadata": {},
     "output_type": "execute_result"
    }
   ],
   "source": [
    "data = load_digits()\n",
    "\n",
    "X, y = data.data, data.target\n",
    "\n",
    "X[0,:].reshape([8,8])"
   ]
  },
  {
   "cell_type": "code",
   "execution_count": 18,
   "id": "amended-bargain",
   "metadata": {},
   "outputs": [
    {
     "data": {
      "image/png": "[encoded data removed]",
      "text/plain": [
       "<Figure size 1152x432 with 10 Axes>"
      ]
     },
     "metadata": {
      "needs_background": "light"
     },
     "output_type": "display_data"
    }
   ],
   "source": [
    "plt.figure(figsize=(16, 6))\n",
    "for i in range(10):\n",
    "    plt.subplot(2, 5, i + 1)\n",
    "    plt.imshow(X[i,:].reshape([8,8]));"
   ]
  },
  {
   "cell_type": "code",
   "execution_count": 22,
   "id": "mexican-mistake",
   "metadata": {},
   "outputs": [],
   "source": [
    "from sklearn.decomposition import PCA as RandomizedPCA\n",
    "from sklearn.decomposition import PCA"
   ]
  },
  {
   "cell_type": "code",
   "execution_count": 21,
   "id": "fabulous-warrior",
   "metadata": {},
   "outputs": [],
   "source": [
    "from sklearn.metrics import mean_squared_error\n",
    "from math import sqrt"
   ]
  },
  {
   "cell_type": "code",
   "execution_count": 23,
   "id": "complete-friendly",
   "metadata": {
    "scrolled": true
   },
   "outputs": [
    {
     "data": {
      "text/plain": [
       "Text(0, 0.5, 'MSE')"
      ]
     },
     "execution_count": 23,
     "metadata": {},
     "output_type": "execute_result"
    },
    {
     "data": {
      "image/png": "[encoded data removed]",
      "text/plain": [
       "<Figure size 432x288 with 1 Axes>"
      ]
     },
     "metadata": {
      "needs_background": "light"
     },
     "output_type": "display_data"
    }
   ],
   "source": [
    "import pandas as pd\n",
    "data = load_digits()\n",
    "X, y = data.data, data.target\n",
    "data1 = []\n",
    "i = 1\n",
    "for i in range(len(X)):\n",
    "    pca = PCA(n_components = i)\n",
    "    pca.fit(X)\n",
    "    x_pca = pca.transform(X)\n",
    "    x_pca_1 = pca.inverse_transform(x_pca)\n",
    "    rms = sqrt(mean_squared_error(X, x_pca_1))\n",
    "    data1.append([i,rms]) \n",
    "    if i == 64:\n",
    "        break\n",
    "    else:\n",
    "        i += 1\n",
    "df = pd.DataFrame(data1, columns=['i', 'rms'])\n",
    "df\n",
    "plt.plot(df.index, df.rms)\n",
    "plt.title('Зависимость MSE от числа компонент PCA')\n",
    "plt.xlabel('Число компонентов РСА')\n",
    "plt.ylabel('MSE')"
   ]
  }
 ],
 "metadata": {
  "kernelspec": {
   "display_name": "Python 3",
   "language": "python",
   "name": "python3"
  },
  "language_info": {
   "codemirror_mode": {
    "name": "ipython",
    "version": 3
   },
   "file_extension": ".py",
   "mimetype": "text/x-python",
   "name": "python",
   "nbconvert_exporter": "python",
   "pygments_lexer": "ipython3",
   "version": "3.8.5"
  }
 },
 "nbformat": 4,
 "nbformat_minor": 5
}
