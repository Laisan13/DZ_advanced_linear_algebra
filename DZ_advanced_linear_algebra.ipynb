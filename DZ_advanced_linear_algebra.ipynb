{
 "cells": [
  {
   "cell_type": "markdown",
   "id": "democratic-technique",
   "metadata": {},
   "source": [
    "# Домашнее задание \"Продвинутая линейная алгебра\"."
   ]
  },
  {
   "cell_type": "markdown",
   "id": "wanted-narrative",
   "metadata": {},
   "source": [
    "### Уровень 0:"
   ]
  },
  {
   "cell_type": "code",
   "execution_count": 1,
   "id": "suitable-museum",
   "metadata": {},
   "outputs": [
    {
     "name": "stdout",
     "output_type": "stream",
     "text": [
      "[[2 0 0 0]\n",
      " [0 1 0 0]\n",
      " [0 0 4 0]\n",
      " [0 0 0 3]] Диагональная матрица\n"
     ]
    }
   ],
   "source": [
    "from matplotlib import pyplot as plt\n",
    "import numpy as np\n",
    "# Придумайте матрицы, которые обладают следующими свойствами:\n",
    "# a) Диагональная, ортогональная, но не единичная(!)\n",
    "\n",
    "\n",
    "m = np.diag([2,1,4,3])\n",
    "print( m, 'Диагональная матрица')"
   ]
  },
  {
   "cell_type": "code",
   "execution_count": 2,
   "id": "injured-enforcement",
   "metadata": {},
   "outputs": [
    {
     "name": "stdout",
     "output_type": "stream",
     "text": [
      "[[ 4  0  0  0]\n",
      " [ 0  1  0  0]\n",
      " [ 0  0 16  0]\n",
      " [ 0  0  0  9]] Диагональная, ортогональная матрица\n"
     ]
    }
   ],
   "source": [
    "mt = m.transpose()\n",
    "mo = mt@m\n",
    "print( mo, 'Диагональная, ортогональная матрица')"
   ]
  },
  {
   "cell_type": "code",
   "execution_count": 3,
   "id": "focused-quest",
   "metadata": {},
   "outputs": [
    {
     "name": "stdout",
     "output_type": "stream",
     "text": [
      "[[ 5  9  6  7]\n",
      " [ 0  8 10 11]\n",
      " [ 0  0 14  1]\n",
      " [ 0  0  0 18]] Верхнетреугольная матрица\n"
     ]
    }
   ],
   "source": [
    "# b) Верхнетреугольная, ортогональная\n",
    "m1 = np.triu([[5,9,6,7],[4,8,10,11],[12,2,14,1],[3,15,16,18]], 0)\n",
    "\n",
    "print( m1, 'Верхнетреугольная матрица')"
   ]
  },
  {
   "cell_type": "code",
   "execution_count": 4,
   "id": "virgin-elite",
   "metadata": {},
   "outputs": [
    {
     "name": "stdout",
     "output_type": "stream",
     "text": [
      "[[ 25  45  30  35]\n",
      " [ 45 145 134 151]\n",
      " [ 30 134 332 166]\n",
      " [ 35 151 166 495]] Верхнетреугольная, ортогональная матрица\n"
     ]
    }
   ],
   "source": [
    "m1t = m1.transpose()\n",
    "mo1 = m1t@m1\n",
    "print( mo1, 'Верхнетреугольная, ортогональная матрица')"
   ]
  },
  {
   "cell_type": "code",
   "execution_count": 5,
   "id": "removed-handling",
   "metadata": {},
   "outputs": [],
   "source": [
    "m2 = np.tril([[5,9,6,7],[4,8,10,11],[12,2,14,1],[3,15,16,18]], -1)"
   ]
  },
  {
   "cell_type": "code",
   "execution_count": 6,
   "id": "opposed-journalism",
   "metadata": {},
   "outputs": [
    {
     "name": "stdout",
     "output_type": "stream",
     "text": [
      "[[ 0  0  0  0]\n",
      " [ 4  0  0  0]\n",
      " [12  2  0  0]\n",
      " [ 3 15 16  0]]\n"
     ]
    }
   ],
   "source": [
    "print(m2)"
   ]
  },
  {
   "cell_type": "code",
   "execution_count": 7,
   "id": "italic-dragon",
   "metadata": {},
   "outputs": [
    {
     "name": "stdout",
     "output_type": "stream",
     "text": [
      "[[ 25  45  30  35]\n",
      " [ 45 145 134 151]\n",
      " [ 30 134 332 166]\n",
      " [ 35 151 166 495]] Нижнетреугольная, ортогональная матрица\n"
     ]
    }
   ],
   "source": [
    "m2t = m2.transpose()\n",
    "mo2 = m2t@m2\n",
    "print( mo1, 'Нижнетреугольная, ортогональная матрица')"
   ]
  },
  {
   "cell_type": "code",
   "execution_count": 8,
   "id": "welsh-rotation",
   "metadata": {},
   "outputs": [],
   "source": [
    "# d) Матрица, у которой определитель = 1, и все элементы не равны 0"
   ]
  },
  {
   "cell_type": "code",
   "execution_count": 9,
   "id": "light-museum",
   "metadata": {},
   "outputs": [
    {
     "name": "stdout",
     "output_type": "stream",
     "text": [
      "[[1. 2. 1.]\n",
      " [1. 1. 6.]\n",
      " [2. 3. 6.]]\n",
      "1.0\n"
     ]
    }
   ],
   "source": [
    "m = np.array([[1, 2, 1], [1, 1, 6], [2, 3, 6]], dtype=np.float32)\n",
    "det = np.linalg.det(m)\n",
    "print(m)\n",
    "print(det)"
   ]
  },
  {
   "cell_type": "code",
   "execution_count": 10,
   "id": "caroline-lender",
   "metadata": {},
   "outputs": [
    {
     "name": "stdout",
     "output_type": "stream",
     "text": [
      "[[2 2]\n",
      " [1 3]]\n"
     ]
    }
   ],
   "source": [
    "# Найдите собственные значения и собственные вектора матриц:\n",
    "m3 = np.array([[2, 2],[1, 3]])\n",
    "w, v = np.linalg.eig(m3)\n",
    "print(m3)"
   ]
  },
  {
   "cell_type": "code",
   "execution_count": 11,
   "id": "celtic-retrieval",
   "metadata": {},
   "outputs": [
    {
     "name": "stdout",
     "output_type": "stream",
     "text": [
      "Собственное значение 1.0\n",
      "соответствующий ему собственный вектор [-0.89442719  0.4472136 ]\n",
      "Собственное значение 4.0\n",
      "соответствующий ему собственный вектор [-0.70710678 -0.70710678]\n"
     ]
    }
   ],
   "source": [
    "for i in range(len(w)):\n",
    "    print(\"Собственное значение \" + str(w[i]))\n",
    "    print(\"соответствующий ему собственный вектор \" + str(v[:,i]))"
   ]
  },
  {
   "cell_type": "markdown",
   "id": "available-capital",
   "metadata": {},
   "source": [
    "### Уровень 1:¶"
   ]
  },
  {
   "cell_type": "code",
   "execution_count": 12,
   "id": "judicial-collar",
   "metadata": {},
   "outputs": [
    {
     "name": "stdout",
     "output_type": "stream",
     "text": [
      "[[1 2]\n",
      " [2 3]]\n"
     ]
    }
   ],
   "source": [
    "import pylab as pl\n",
    "import warnings\n",
    "warnings.filterwarnings(\"ignore\")\n",
    "from matplotlib import pyplot as plt\n",
    "from scipy import linalg\n",
    "from sklearn.datasets import load_digits\n",
    "from sklearn.decomposition import TruncatedSVD\n",
    "from sklearn.ensemble import RandomForestClassifier\n",
    "\n",
    "from mnist.loader import MNIST\n",
    "from sklearn.decomposition import PCA as RandomizedPCA\n",
    "\n",
    "# Найдите спектральное разложение матрицы:\n",
    "\n",
    "m = np.array([[1, 2],[2,3]])\n",
    "print(m)"
   ]
  },
  {
   "cell_type": "code",
   "execution_count": 13,
   "id": "bibliographic-prevention",
   "metadata": {},
   "outputs": [
    {
     "name": "stdout",
     "output_type": "stream",
     "text": [
      "Eigenvalues собственные значения матрицы m:\n",
      "[-0.23606798  4.23606798]\n",
      "\n",
      "Eigenvectors собственные вектора матрицы m:\n",
      "[[-0.85065081 -0.52573111]\n",
      " [ 0.52573111 -0.85065081]]\n"
     ]
    }
   ],
   "source": [
    "a, U = linalg.eig(m)\n",
    "print('Eigenvalues собственные значения матрицы m:')\n",
    "print(np.array(a, dtype=float))\n",
    "print('\\nEigenvectors собственные вектора матрицы m:')\n",
    "print(U)"
   ]
  },
  {
   "cell_type": "code",
   "execution_count": 14,
   "id": "married-sampling",
   "metadata": {},
   "outputs": [
    {
     "name": "stdout",
     "output_type": "stream",
     "text": [
      "[[1. 2.]\n",
      " [2. 3.]]\n"
     ]
    }
   ],
   "source": [
    "print(np.array(U.dot(np.diag(a)).dot(U.T), dtype=float)) # спектральное разложение "
   ]
  },
  {
   "cell_type": "code",
   "execution_count": 15,
   "id": "ignored-longitude",
   "metadata": {},
   "outputs": [],
   "source": [
    "# Постройте зависимость качества восстановления рукописных цифр (MNIST)\n",
    "# в зависимости от различного количества компонент PCA. В качестве метрики различия предлагаю использовать MSE.*\n"
   ]
  },
  {
   "cell_type": "code",
   "execution_count": 16,
   "id": "unlikely-bloom",
   "metadata": {},
   "outputs": [
    {
     "data": {
      "text/plain": [
       "array([[ 0.,  0.,  5., 13.,  9.,  1.,  0.,  0.],\n",
       "       [ 0.,  0., 13., 15., 10., 15.,  5.,  0.],\n",
       "       [ 0.,  3., 15.,  2.,  0., 11.,  8.,  0.],\n",
       "       [ 0.,  4., 12.,  0.,  0.,  8.,  8.,  0.],\n",
       "       [ 0.,  5.,  8.,  0.,  0.,  9.,  8.,  0.],\n",
       "       [ 0.,  4., 11.,  0.,  1., 12.,  7.,  0.],\n",
       "       [ 0.,  2., 14.,  5., 10., 12.,  0.,  0.],\n",
       "       [ 0.,  0.,  6., 13., 10.,  0.,  0.,  0.]])"
      ]
     },
     "execution_count": 16,
     "metadata": {},
     "output_type": "execute_result"
    }
   ],
   "source": [
    "data = load_digits()\n",
    "\n",
    "X, y = data.data, data.target\n",
    "\n",
    "X[0,:].reshape([8,8])"
   ]
  },
  {
   "cell_type": "code",
   "execution_count": 17,
   "id": "amended-bargain",
   "metadata": {},
   "outputs": [
    {
     "data": {
      "image/png": "[encoded data removed]",
      "text/plain": [
       "<Figure size 1152x432 with 10 Axes>"
      ]
     },
     "metadata": {
      "needs_background": "light"
     },
     "output_type": "display_data"
    }
   ],
   "source": [
    "plt.figure(figsize=(16, 6))\n",
    "for i in range(10):\n",
    "    plt.subplot(2, 5, i + 1)\n",
    "    plt.imshow(X[i,:].reshape([8,8]));"
   ]
  },
  {
   "cell_type": "code",
   "execution_count": 31,
   "id": "mexican-mistake",
   "metadata": {},
   "outputs": [],
   "source": [
    "from sklearn.decomposition import PCA as RandomizedPCA\n",
    "from sklearn.decomposition import PCA"
   ]
  },
  {
   "cell_type": "code",
   "execution_count": 72,
   "id": "understood-literacy",
   "metadata": {},
   "outputs": [
    {
     "name": "stdout",
     "output_type": "stream",
     "text": [
      "original shape:  (1797, 64)\n",
      "transformed shape: (1797, 45)\n"
     ]
    }
   ],
   "source": [
    "pca = PCA(n_components=45)\n",
    "pca.fit(X)\n",
    "X_pca = pca.transform(X)\n",
    "print(\"original shape: \", X.shape)\n",
    "print(\"transformed shape:\", X_pca.shape)"
   ]
  },
  {
   "cell_type": "code",
   "execution_count": 74,
   "id": "awful-surface",
   "metadata": {},
   "outputs": [
    {
     "data": {
      "image/png": "[encoded data removed]",
      "text/plain": [
       "<Figure size 1152x432 with 10 Axes>"
      ]
     },
     "metadata": {
      "needs_background": "light"
     },
     "output_type": "display_data"
    }
   ],
   "source": [
    "plt.figure(figsize=(16, 6))\n",
    "for i in range(10):\n",
    "    plt.subplot(2, 5, i + 1)\n",
    "    plt.imshow(X_pca[i,:].reshape([9,5]));"
   ]
  },
  {
   "cell_type": "code",
   "execution_count": 75,
   "id": "objective-jesus",
   "metadata": {},
   "outputs": [],
   "source": [
    "X_pca_1 = pca.inverse_transform(X_pca)"
   ]
  },
  {
   "cell_type": "code",
   "execution_count": 76,
   "id": "fabulous-warrior",
   "metadata": {},
   "outputs": [
    {
     "data": {
      "text/plain": [
       "0.2817328155623085"
      ]
     },
     "execution_count": 76,
     "metadata": {},
     "output_type": "execute_result"
    }
   ],
   "source": [
    "from sklearn.metrics import mean_squared_error\n",
    "from math import sqrt\n",
    "rms = sqrt(mean_squared_error(X, X_pca_1))\n",
    "rms"
   ]
  },
  {
   "cell_type": "code",
   "execution_count": 77,
   "id": "twenty-chemistry",
   "metadata": {},
   "outputs": [
    {
     "data": {
      "image/png": "[encoded data removed]",
      "text/plain": [
       "<Figure size 1152x432 with 10 Axes>"
      ]
     },
     "metadata": {
      "needs_background": "light"
     },
     "output_type": "display_data"
    }
   ],
   "source": [
    "plt.figure(figsize=(16, 6))\n",
    "for i in range(10):\n",
    "    plt.subplot(2, 5, i + 1)\n",
    "    plt.imshow(X_pca_1[i,:].reshape([8,8]));"
   ]
  }
 ],
 "metadata": {
  "kernelspec": {
   "display_name": "Python 3",
   "language": "python",
   "name": "python3"
  },
  "language_info": {
   "codemirror_mode": {
    "name": "ipython",
    "version": 3
   },
   "file_extension": ".py",
   "mimetype": "text/x-python",
   "name": "python",
   "nbconvert_exporter": "python",
   "pygments_lexer": "ipython3",
   "version": "3.8.5"
  }
 },
 "nbformat": 4,
 "nbformat_minor": 5
}
